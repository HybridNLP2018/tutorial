{
  "nbformat": 4,
  "nbformat_minor": 0,
  "metadata": {
    "colab": {
      "name": "06_shakespeare_exercise.ipynb",
      "version": "0.3.2",
      "provenance": [],
      "collapsed_sections": []
    },
    "kernelspec": {
      "name": "python3",
      "display_name": "Python 3"
    },
    "accelerator": "GPU"
  },
  "cells": [
    {
      "metadata": {
        "id": "iYARPTHyvpDx",
        "colab_type": "code",
        "colab": {}
      },
      "cell_type": "code",
      "source": [
        ""
      ],
      "execution_count": 0,
      "outputs": []
    },
    {
      "metadata": {
        "id": "63jRAkIwvtr8",
        "colab_type": "text"
      },
      "cell_type": "markdown",
      "source": [
        "# Exercise: Find correspondences between old and modern english "
      ]
    },
    {
      "metadata": {
        "id": "rAb1UsY2wHj9",
        "colab_type": "text"
      },
      "cell_type": "markdown",
      "source": [
        "The purpose of this execises is to use two vecsigrafos, one built on UMBC and Wordnet and another one produced by directly running Swivel against a corpus of Shakespeare's complete works, to try to find corelations between old and modern English, e.g. \"thou\" -> \"you\", \"dost\" -> \"do\", \"raiment\" -> \"clothing\". \n",
        "\n",
        "For example, pick a set of 100 words in \"ye olde\" English corpus and see how they correlate to UMBC over WordNet. \n",
        "\n"
      ]
    },
    {
      "metadata": {
        "id": "agArZfWa3c1Z",
        "colab_type": "text"
      },
      "cell_type": "markdown",
      "source": [
        "## Download a small text corpus"
      ]
    },
    {
      "metadata": {
        "id": "NoC44pTe3k2Y",
        "colab_type": "text"
      },
      "cell_type": "markdown",
      "source": [
        "First, we download a corpus into our environment. We will use the complete works of Shakespeare corpus, published as part of Project Gutenberg."
      ]
    },
    {
      "metadata": {
        "id": "QoUs2v493wPr",
        "colab_type": "code",
        "colab": {}
      },
      "cell_type": "code",
      "source": [
        "import os"
      ],
      "execution_count": 0,
      "outputs": []
    },
    {
      "metadata": {
        "id": "38nApJRN3yLT",
        "colab_type": "code",
        "colab": {}
      },
      "cell_type": "code",
      "source": [
        "import nltk"
      ],
      "execution_count": 0,
      "outputs": []
    },
    {
      "metadata": {
        "id": "SQzaXqBn3zhC",
        "colab_type": "code",
        "colab": {
          "base_uri": "https://localhost:8080/",
          "height": 170
        },
        "outputId": "a974e570-84dc-487d-afcd-c6a4a928443e"
      },
      "cell_type": "code",
      "source": [
        "%ls"
      ],
      "execution_count": 3,
      "outputs": [
        {
          "output_type": "stream",
          "text": [
            "captions_5class_cross.h5          figures_5class_weights.h5\n",
            "captions_5class_cross_weights.h5  quality5class.h5\n",
            "captions_5class.h5                qualityMix5class.h5\n",
            "captions_5class_weights.h5        qualityUni5class.h5\n",
            "cross.h5                          \u001b[0m\u001b[01;34msample_data\u001b[0m/\n",
            "cross_weights.h5                  title_abstract_5class.h5\n",
            "figures_5class_cross.h5           title_abstract_5class_weights.h5\n",
            "figures_5class_cross_weights.h5   \u001b[01;34mtutorial\u001b[0m/\n",
            "figures_5class.h5\n"
          ],
          "name": "stdout"
        }
      ]
    },
    {
      "metadata": {
        "id": "RB95ptJH4pxp",
        "colab_type": "code",
        "colab": {
          "base_uri": "https://localhost:8080/",
          "height": 136
        },
        "outputId": "60ab202e-407d-434a-d8f1-298d6aa3abfd"
      },
      "cell_type": "code",
      "source": [
        "\n",
        "!rm -r tutorial\n",
        "!git clone https://github.com/HybridNLP2018/tutorial"
      ],
      "execution_count": 11,
      "outputs": [
        {
          "output_type": "stream",
          "text": [
            "Cloning into 'tutorial'...\n",
            "remote: Enumerating objects: 128, done.\u001b[K\n",
            "remote: Counting objects: 100% (128/128), done.\u001b[K\n",
            "remote: Compressing objects: 100% (94/94), done.\u001b[K\n",
            "remote: Total 260 (delta 65), reused 95 (delta 34), pack-reused 132\u001b[K\n",
            "Receiving objects: 100% (260/260), 22.34 MiB | 18.45 MiB/s, done.\n",
            "Resolving deltas: 100% (125/125), done.\n"
          ],
          "name": "stdout"
        }
      ]
    },
    {
      "metadata": {
        "id": "2_G461Gf5dtY",
        "colab_type": "text"
      },
      "cell_type": "markdown",
      "source": [
        "Let us see if the corpus is where we think it is:"
      ]
    },
    {
      "metadata": {
        "id": "MYAj4X4A4IPD",
        "colab_type": "code",
        "colab": {
          "base_uri": "https://localhost:8080/",
          "height": 51
        },
        "outputId": "7248d141-2e86-4666-f044-688362d0ef97"
      },
      "cell_type": "code",
      "source": [
        "%cd tutorial/lit\n",
        "%ls \n"
      ],
      "execution_count": 14,
      "outputs": [
        {
          "output_type": "stream",
          "text": [
            "/content/tutorial/lit\n",
            "shakespeare_complete_works.txt\n"
          ],
          "name": "stdout"
        }
      ]
    },
    {
      "metadata": {
        "id": "DXX3Tq2j57LL",
        "colab_type": "text"
      },
      "cell_type": "markdown",
      "source": [
        "Downloading Swivel"
      ]
    },
    {
      "metadata": {
        "id": "-IEl4B4H59nK",
        "colab_type": "code",
        "colab": {
          "base_uri": "https://localhost:8080/",
          "height": 459
        },
        "outputId": "5485433e-1dfd-41ef-cbcf-849b7746e046"
      },
      "cell_type": "code",
      "source": [
        "!wget http://expertsystemlab.com/hybridNLP18/swivel.zip\n",
        "!unzip swivel.zip\n",
        "!rm swivel/*\n",
        "!rm swivel.zip"
      ],
      "execution_count": 15,
      "outputs": [
        {
          "output_type": "stream",
          "text": [
            "--2018-10-04 16:28:16--  http://expertsystemlab.com/hybridNLP18/swivel.zip\n",
            "Resolving expertsystemlab.com (expertsystemlab.com)... 217.126.74.30\n",
            "Connecting to expertsystemlab.com (expertsystemlab.com)|217.126.74.30|:80... connected.\n",
            "HTTP request sent, awaiting response... 200 OK\n",
            "Length: 35964 (35K) [application/zip]\n",
            "Saving to: ‘swivel.zip’\n",
            "\n",
            "\rswivel.zip            0%[                    ]       0  --.-KB/s               \rswivel.zip          100%[===================>]  35.12K  --.-KB/s    in 0.04s   \n",
            "\n",
            "2018-10-04 16:28:16 (940 KB/s) - ‘swivel.zip’ saved [35964/35964]\n",
            "\n",
            "Archive:  swivel.zip\n",
            "   creating: swivel/\n",
            "  inflating: swivel/analogy.cc       \n",
            "  inflating: swivel/distributed.sh   \n",
            "  inflating: swivel/eval.mk          \n",
            "  inflating: swivel/fastprep.cc      \n",
            "  inflating: swivel/fastprep.mk      \n",
            "  inflating: swivel/glove_to_shards.py  \n",
            "  inflating: swivel/nearest.py       \n",
            "  inflating: swivel/prep.py          \n",
            "  inflating: swivel/README.md        \n",
            "  inflating: swivel/swivel.py        \n",
            "  inflating: swivel/text2bin.py      \n",
            "  inflating: swivel/vecs.py          \n",
            "  inflating: swivel/wordsim.py       \n"
          ],
          "name": "stdout"
        }
      ]
    },
    {
      "metadata": {
        "id": "cL-Ma6tS6Rlx",
        "colab_type": "text"
      },
      "cell_type": "markdown",
      "source": [
        "## Learn the Swivel embeddings over the Old Shakespeare corpus"
      ]
    },
    {
      "metadata": {
        "id": "GJZCkWfA6YBy",
        "colab_type": "code",
        "colab": {
          "base_uri": "https://localhost:8080/",
          "height": 833
        },
        "outputId": "ca44a0f7-1fc1-49ea-b0f2-6fcf42ecc7fa"
      },
      "cell_type": "code",
      "source": [
        "corpus_path = '/content/tutorial/lit/shakespeare_complete_works.txt'\n",
        "coocs_path = '/content/tutorial/lit/coocs'\n",
        "shard_size = 512\n",
        "freq=3\n",
        "!python /content/tutorial/scripts/swivel/prep.py --input={corpus_path} --output_dir={coocs_path} --shard_size={shard_size} --min_count={freq}"
      ],
      "execution_count": 17,
      "outputs": [
        {
          "output_type": "stream",
          "text": [
            "running with flags \n",
            "/content/tutorial/scripts/swivel/prep.py:\n",
            "  --bufsz: The number of co-occurrences to buffer\n",
            "    (default: '16777216')\n",
            "    (an integer)\n",
            "  --input: The input text.\n",
            "    (default: '')\n",
            "  --max_vocab: The maximum vocabulary size\n",
            "    (default: '1048576')\n",
            "    (an integer)\n",
            "  --min_count: The minimum number of times a word should occur to be included in\n",
            "    the vocabulary\n",
            "    (default: '5')\n",
            "    (an integer)\n",
            "  --output_dir: Output directory for Swivel data\n",
            "    (default: '/tmp/swivel_data')\n",
            "  --shard_size: The size for each shard\n",
            "    (default: '4096')\n",
            "    (an integer)\n",
            "  --vocab: Vocabulary to use instead of generating one\n",
            "    (default: '')\n",
            "  --window_size: The window size\n",
            "    (default: '10')\n",
            "    (an integer)\n",
            "\n",
            "tensorflow.python.platform.app:\n",
            "  -h,--[no]help: show this help\n",
            "    (default: 'false')\n",
            "  --[no]helpfull: show full help\n",
            "    (default: 'false')\n",
            "  --[no]helpshort: show this help\n",
            "    (default: 'false')\n",
            "\n",
            "absl.flags:\n",
            "  --flagfile: Insert flag definitions from the given file into the command line.\n",
            "    (default: '')\n",
            "  --undefok: comma-separated list of flag names that it is okay to specify on\n",
            "    the command line even if the program does not define a flag with that name.\n",
            "    IMPORTANT: flags in this list that have arguments MUST use the --flag=value\n",
            "    format.\n",
            "    (default: '')\n",
            "\n",
            "vocabulary contains 23552 tokens\n",
            "Computing co-occurrences: 140000..., last lid 1820, sum(1820)=188.256746\n",
            "writing shard 2116/2116\n",
            "Wrote vocab and sum files to /content/tutorial/lit/coocs\n",
            "Wrote vocab and sum files to /content/tutorial/lit/coocs\n",
            "done!\n"
          ],
          "name": "stdout"
        }
      ]
    },
    {
      "metadata": {
        "id": "09mUSemi7VZw",
        "colab_type": "code",
        "colab": {
          "base_uri": "https://localhost:8080/",
          "height": 189
        },
        "outputId": "191a7d9d-f9ee-4e56-fd3d-0bea9bbb03cf"
      },
      "cell_type": "code",
      "source": [
        "%ls {coocs_path} | head -n 10"
      ],
      "execution_count": 18,
      "outputs": [
        {
          "output_type": "stream",
          "text": [
            "col_sums.txt\n",
            "col_vocab.txt\n",
            "row_sums.txt\n",
            "row_vocab.txt\n",
            "shard-000-000.pb\n",
            "shard-000-001.pb\n",
            "shard-000-002.pb\n",
            "shard-000-003.pb\n",
            "shard-000-004.pb\n",
            "shard-000-005.pb\n"
          ],
          "name": "stdout"
        }
      ]
    },
    {
      "metadata": {
        "id": "j1qZKNvy8DHy",
        "colab_type": "code",
        "colab": {}
      },
      "cell_type": "code",
      "source": [
        ""
      ],
      "execution_count": 0,
      "outputs": []
    }
  ]
}